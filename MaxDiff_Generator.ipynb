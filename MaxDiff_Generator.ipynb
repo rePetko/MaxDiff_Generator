{
 "cells": [
  {
   "cell_type": "code",
   "execution_count": 77,
   "metadata": {},
   "outputs": [],
   "source": [
    "import numpy as np\n",
    "import itertools\n",
    "import random\n",
    "\n",
    "# Step 1: Define attributes\n",
    "attributes = np.array([f\"A{i}\" for i in range(1, 11)])  # Labels A1 to A15\n",
    "\n",
    "# Step 2: Define the number of attributes per set (e.g., groups of 4)\n",
    "group_size = 5\n",
    "\n",
    "#Select nyumber of groups\n",
    "num_groups = 5  # Adjust this based on the desired repetitions\n"
   ]
  },
  {
   "cell_type": "code",
   "execution_count": 78,
   "metadata": {},
   "outputs": [
    {
     "name": "stdout",
     "output_type": "stream",
     "text": [
      "Attributes: ['A1' 'A2' 'A3' 'A4' 'A5' 'A6' 'A7' 'A8' 'A9' 'A10'], Group Size: 5, Number of Groups: 5\n"
     ]
    }
   ],
   "source": [
    "print(f\"Attributes: {attributes}, Group Size: {group_size}, Number of Groups: {num_groups}\")"
   ]
  },
  {
   "cell_type": "code",
   "execution_count": 79,
   "metadata": {},
   "outputs": [
    {
     "name": "stdout",
     "output_type": "stream",
     "text": [
      "Number of possible combinations : 252\n",
      "Group 1: ('A1', 'A3', 'A5', 'A6', 'A10')\n",
      "Group 2: ('A1', 'A2', 'A3', 'A5', 'A6')\n",
      "Group 3: ('A2', 'A3', 'A4', 'A6', 'A8')\n",
      "Group 4: ('A2', 'A4', 'A7', 'A8', 'A9')\n",
      "Group 5: ('A1', 'A2', 'A4', 'A7', 'A8')\n"
     ]
    }
   ],
   "source": [
    "# Step 3: Generate all possible combinations of attributes\n",
    "all_combinations = list(itertools.combinations(attributes, group_size))\n",
    "\n",
    "# Ensure num_groups is not larger than the number of all_combinations\n",
    "num_groups = min(num_groups, len(all_combinations))\n",
    "\n",
    "# Step 4: Randomly select a subset of these combinations for balance\n",
    "selected_groups = random.sample(all_combinations, num_groups)\n",
    "\n",
    "# Display the groups\n",
    "print(f\"Number of possible combinations :\", len(all_combinations))\n",
    "for i, group in enumerate(selected_groups, 1):\n",
    "    print(f\"Group {i}: {group}\")"
   ]
  }
 ],
 "metadata": {
  "kernelspec": {
   "display_name": "base",
   "language": "python",
   "name": "python3"
  },
  "language_info": {
   "codemirror_mode": {
    "name": "ipython",
    "version": 3
   },
   "file_extension": ".py",
   "mimetype": "text/x-python",
   "name": "python",
   "nbconvert_exporter": "python",
   "pygments_lexer": "ipython3",
   "version": "3.11.7"
  }
 },
 "nbformat": 4,
 "nbformat_minor": 2
}
